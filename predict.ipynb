{
 "cells": [
  {
   "cell_type": "markdown",
   "id": "380455e6",
   "metadata": {},
   "source": [
    "# Bank telemarketing\n",
    "This notebook presents an analysis of a telemarketing campaign of a Portuguese banking institution that took place between May 2008 and November 2010.  During the campaign, clients were contacted by phone and asked if they were interested in a bank term deposit.\n",
    "Here, I will develop a machine learning model that could help make future telemarketing campaigns more efficient. The model is based on personal information about the clients, the setup of the current and previous marketing campaigns, and some parameters describing the state of the economy at the time when the clients were contacted. In total, there are 20 features, both, numerical and categorical ones. The data set contains 41188 instances.\n",
    "\n",
    "More information about the data set are available [here](https://www.kaggle.com/impapan/bank-marketing-dataset).\n",
    "\n",
    "Source: \\\n",
    "S. Moro, P. Cortez and P. Rita. A Data-Driven Approach to Predict the Success of Bank Telemarketing. Decision Support Systems, Elsevier, 62:22-31, June 2014\n",
    "\n",
    "(Note: Not all the features analyzed by Moro et al. are included in this data set for privacy reasons.)"
   ]
  },
  {
   "cell_type": "code",
   "execution_count": 1,
   "id": "224b07ab",
   "metadata": {},
   "outputs": [],
   "source": [
    "# Import the relevant modules\n",
    "import numpy as np\n",
    "import pandas as pd\n",
    "import matplotlib.pyplot as plt\n",
    "import seaborn as sns\n",
    "from sklearn.preprocessing import StandardScaler\n",
    "from sklearn.decomposition import PCA\n",
    "from sklearn.preprocessing import MinMaxScaler\n",
    "from sklearn.compose import ColumnTransformer\n",
    "from sklearn.model_selection import train_test_split\n",
    "from sklearn.model_selection import cross_val_score\n",
    "from sklearn.metrics import roc_auc_score\n",
    "from sklearn.ensemble import GradientBoostingClassifier\n",
    "from sklearn.model_selection import GridSearchCV\n",
    "from sklearn.model_selection import RandomizedSearchCV\n",
    "from sklearn.model_selection import learning_curve\n",
    "from sklearn.metrics import confusion_matrix"
   ]
  },
  {
   "cell_type": "markdown",
   "id": "187dcd6a",
   "metadata": {},
   "source": [
    "## Auxiliary functions\n",
    "Below are some functions that are used later in the notebook."
   ]
  },
  {
   "cell_type": "code",
   "execution_count": 2,
   "id": "1af98f59",
   "metadata": {},
   "outputs": [],
   "source": [
    "def load_data(filename):\n",
    "    '''Loads the data, divides them in features and label.'''\n",
    "    data = pd.read_csv(filename,sep=';')\n",
    "    \n",
    "    X = data.drop('y',axis=1)\n",
    "    y = data.y == 'yes'\n",
    "    \n",
    "    return X,y\n",
    "\n",
    "\n",
    "\n",
    "def feature_engineering_num(X_train,X_test):\n",
    "    '''Takes the train and the test data, performs preprocessing and feature engineering for the numerical features.'''\n",
    "\n",
    "    # The relevant numerical features are \"emp.var.rate\" (employment variation rate), \"cons.price.idx\" (consumer price index)\",\n",
    "    # \"cons.conf.idx\" (consumer confidence index), \"euribor3m\" (euribor 3 month rate), and \"nr.employed\" (number of employees),\n",
    "    # which describe the state of the economy. In addition, the feature \"campaign\" (how many times was a client contacted during\n",
    "    # the current telemarketing campaign) is used. These features do not exhibit any missing data.\n",
    "    # Including additional numerical features from the data set does not improve the quality of the model.\n",
    "        \n",
    "    \n",
    "    # PCA for the economical features\n",
    "    # There are several features describing the state of the economy. These are highly correlated.\n",
    "    # Three principal components capture more than 99 % of the variance\n",
    "    economic = ['emp.var.rate','cons.price.idx','cons.conf.idx','euribor3m','nr.employed']\n",
    "    sc = StandardScaler()\n",
    "    pca = PCA(n_components=3)\n",
    "\n",
    "    dummy = X_train[economic]\n",
    "    dummy = sc.fit_transform(dummy)\n",
    "    econ_train = pca.fit_transform(dummy)\n",
    "    econ_train = pd.DataFrame(econ_train,columns=['economic_pca_1','economic_pca_2','economic_pca_3'],index=X_train.index)\n",
    "\n",
    "    dummy = X_test[economic]\n",
    "    dummy = sc.transform(dummy)\n",
    "    econ_test = pca.transform(dummy)\n",
    "    econ_test = pd.DataFrame(econ_test,columns=['economic_pca_1','economic_pca_2','economic_pca_3'],index=X_test.index)\n",
    "    \n",
    "    \n",
    "    #Combine the result of the PCA with the \"campaign\" feature in a dataframe.\n",
    "    X_train_num = pd.concat([X_train[['campaign']],econ_train],axis=1)\n",
    "    X_test_num = pd.concat([X_test[['campaign']],econ_test],axis=1)\n",
    "\n",
    "    \n",
    "    # Scaling of the data. The \"campaign\" feature exhibits a strongly right skewed distribution.\n",
    "    # Therefore, a min-max scaler is used. The results from the PCA are transformed using a standard scaler.\n",
    "    selective = ColumnTransformer([('minmax', MinMaxScaler(), ['campaign'])], remainder=StandardScaler())\n",
    "    X_train_num_sc = pd.DataFrame(selective.fit_transform(X_train_num),index=X_train_num.index,columns=X_train_num.columns)\n",
    "    X_test_num_sc = pd.DataFrame(selective.transform(X_test_num),index=X_test_num.index,columns=X_test_num.columns)\n",
    "\n",
    "\n",
    "    return X_train_num_sc, X_test_num_sc\n",
    "\n",
    "\n",
    "\n",
    "def feature_engineering_cat(data):\n",
    "    '''Takes the train or the test data, performs preprocessing and feature engineering for the categorical data.'''\n",
    "    \n",
    "    # The relevant categorical features are \"marital\" (which describes the marital status of the client), \"education\", and\n",
    "    # \"poutcome\" (whether or not a client subscribed to a term deposit in a previous telemarketing campaign).\n",
    "    # The features \"marital\" and \"education\" exhibits a small fraction of missing data (0.2 % of the \"marital feature\",\n",
    "    # 4 % of the feature \"education\"), labeled as \"unknown\".\n",
    "    \n",
    "    \n",
    "    # The \"marital\" feature exhibits four categories from which some have a similar influence on the target variable.\n",
    "    # Therefore, I generate a new feature describing the marital status that contains only two categories.\n",
    "    # In addition, I apply a one-hot encoder to the feature.\n",
    "    marital_map = {'divorced': 'mar_1','married': 'mar_1','single': 'mar_2','unknown': 'mar_2'}\n",
    "    mar_map = pd.get_dummies(data['marital'].map(marital_map))\n",
    "\n",
    "    # The \"education\" feature exibits eight categories. I generate a new feature describing the education that contains only two\n",
    "    # categories. In addition, I apply a One-hot encoder to the feature.\n",
    "    edu_map = {'basic.9y': 'edu_1','basic.6y': 'edu_1','basic.4y': 'edu_2','high.school': 'edu_2', 'professional.course': 'edu_2','university.degree': 'edu_3','unknown': 'edu_3','illiterate': 'edu_3'}\n",
    "    edu_map = pd.get_dummies(data['education'].map(edu_map))\n",
    "    \n",
    "    # The \"poutcome feature\" contains three categories. I apply a One-hot encoder to the feature.\n",
    "    poutcome = pd.get_dummies(data.poutcome,prefix='poutcome')\n",
    "    \n",
    "    \n",
    "    # Combine the relevant categorical features in a dataframe\n",
    "    data_cat = pd.concat([mar_map,edu_map,poutcome],axis=1)  \n",
    "    data_cat['no_default'] = data['default'] == 'no'    # the client does not have a credit in default\n",
    "    data_cat['contact_cellular'] = data['contact'] == 'cellular'  # contacting the client on their mobil phone seems to be more efficient\n",
    "    data_cat['age60'] = data['age'] > 60   # people older than 60 are more likely to subscribe to a term deposit\n",
    "    \n",
    "    return data_cat\n",
    "\n",
    "\n",
    "\n",
    "def optimize_gradboost(X_train,y_train):\n",
    "    '''Takes the training data, optimizes a Gradient Boosting classifier.'''\n",
    "    \n",
    "    gbc =  GradientBoostingClassifier(random_state=42)\n",
    "    \n",
    "    params = {\n",
    "        'min_samples_split':np.arange(0.001,0.02,0.002),\n",
    "        'min_samples_leaf':np.arange(10,500,50),\n",
    "        'max_depth':np.arange(2,10,2),\n",
    "        'max_features':['auto', 'sqrt', 'log2'],\n",
    "        'n_estimators':[150,200,250,300],\n",
    "        'learning_rate':[0.08,0.09,0.1,0.11,0.12],\n",
    "        'subsample':np.arange(0.2,1.2,0.2)\n",
    "    }\n",
    "\n",
    "    # The parameter space is very large. Therefore, I use RandomizedSearchCV.\n",
    "    #clf_gbc = GridSearchCV(gbc,params,scoring='roc_auc',n_jobs=-1,cv=3)\n",
    "    clf_gbc = RandomizedSearchCV(gbc,params,scoring='roc_auc',n_jobs=-1,cv=3,random_state=42,n_iter=50)\n",
    "\n",
    "    clf_gbc.fit(X_train,y_train)\n",
    "    \n",
    "    return clf_gbc\n",
    "\n",
    "\n",
    "\n",
    "def plot_learning_curve(estimator,X,y,train_sizes,cv):\n",
    "    '''Takes an estimator, the features and labels, computes and plots a learning curve'''\n",
    "    \n",
    "    train_sizes, train_scores, valid_scores = learning_curve(estimator,X,y,train_sizes=train_sizes,cv=cv,scoring='roc_auc',n_jobs=-1,shuffle=True,random_state=42)\n",
    "\n",
    "    fig, ax = plt.subplots()\n",
    "    plt.plot(train_sizes, np.mean(train_scores,1), label = 'Training score')\n",
    "    plt.plot(train_sizes, np.mean(valid_scores,1), label = 'Validation score')\n",
    "    ax.set_xlabel('Training set size', fontsize = 14)\n",
    "    ax.set_ylabel('ROC AUC', fontsize = 14)\n",
    "    ax.legend()\n",
    "    ax.set_title('Learning curve')\n",
    "    \n",
    "    \n",
    "    \n",
    "def plot_confusion_matrix(y_true,y_proba,thr):\n",
    "    '''Takes the true labels, the predicted probabilities, and a threshold for the probability. Computes and plots a confusion matrix. '''\n",
    "\n",
    "    cm = confusion_matrix(y_true,y_proba > thr)\n",
    "    \n",
    "    group_names = ['True Neg','False Pos','False Neg','True Pos']\n",
    "    group_counts = [\"{0:0.0f}\".format(value) for value in cm.flatten()]\n",
    "    group_percentages = [\"{0:.2%}\".format(value) for value in cm.flatten()/np.sum(cm)]\n",
    "    labels = [f\"{v1}\\n{v2}\\n{v3}\" for v1, v2, v3 in zip(group_names,group_counts,group_percentages)]\n",
    "    labels = np.asarray(labels).reshape(2,2)\n",
    "    \n",
    "    \n",
    "    fig, ax = plt.subplots()\n",
    "    sns.heatmap(cm, annot=labels, fmt='', cmap='Blues', ax=ax, cbar_kws={'label': 'counts'})\n",
    "    ax.set_title('Confusion matrix')"
   ]
  },
  {
   "cell_type": "markdown",
   "id": "aee9a388",
   "metadata": {},
   "source": [
    "## Prepare the data and optimize a Gradient Boosting classifier\n",
    "I use the functions defined above to preprocess the data and to optimize a Gradient Boosting classifier in order to predict whether  a client is interested in a term deposit. Only 11 % of the clients, that were contacted, subscribed to a term deposit, making the label highly imbalanced. I chose a model that predicts the probability for a client to subscribe to a term deposit, since this allows to tune the threshold of the probability. Therefore, I use Area Under the Receiver Operating Characteristic Curve (ROC AUC) score as a metric.\n",
    "After tuning the hyperparameters, the Gradient Boosting classifier achieves an ROC AUC score of 0.8. I also tested the performance of other kinds of models (e.g., a Support Vector Machine or a Random Forest), but these performed worse than the Gradient Boosting classifier."
   ]
  },
  {
   "cell_type": "code",
   "execution_count": 3,
   "id": "88479216",
   "metadata": {},
   "outputs": [
    {
     "data": {
      "text/plain": [
       "'Gradient Boosting: ROC AUC =  0.80'"
      ]
     },
     "metadata": {},
     "output_type": "display_data"
    },
    {
     "data": {
      "text/plain": [
       "'Best parameters: '"
      ]
     },
     "metadata": {},
     "output_type": "display_data"
    },
    {
     "name": "stdout",
     "output_type": "stream",
     "text": [
      "subsample : 1.0\n",
      "n_estimators : 250\n",
      "min_samples_split : 0.005\n",
      "min_samples_leaf : 160\n",
      "max_features : auto\n",
      "max_depth : 6\n",
      "learning_rate : 0.11\n"
     ]
    }
   ],
   "source": [
    "# Load the data\n",
    "X,y = load_data('bank-additional-full.csv')\n",
    "\n",
    "# Divide in train and test sets\n",
    "X_train, X_test, y_train, y_test = train_test_split(X,y,test_size=0.2,random_state=42,stratify=y)\n",
    "\n",
    "# Preprocessing of the categorical features\n",
    "X_train_cat = feature_engineering_cat(X_train)\n",
    "X_test_cat = feature_engineering_cat(X_test)\n",
    "\n",
    "# Preprocessing of the numerical features\n",
    "X_train_num, X_test_num = feature_engineering_num(X_train,X_test)\n",
    "\n",
    "# Combine numerical and categorical features\n",
    "X_train_comb = pd.concat([X_train_num,X_train_cat],axis=1)\n",
    "X_test_comb = pd.concat([X_test_num,X_test_cat],axis=1)\n",
    "\n",
    "\n",
    "# Optimize Gradient Boosting (maximize roc_auc score)\n",
    "gradboost = optimize_gradboost(X_train_comb,y_train)\n",
    "\n",
    "\n",
    "# Model performance\n",
    "display('Gradient Boosting: ROC AUC =  {:.2f}'.format(gradboost.best_score_))\n",
    "\n",
    "# Model parameters for the best solution:\n",
    "display('Best parameters: ')\n",
    "for key,value in gradboost.best_params_.items():\n",
    "    print(key, ':', value)"
   ]
  },
  {
   "cell_type": "markdown",
   "id": "ae49a56a",
   "metadata": {},
   "source": [
    "## Learning curve\n",
    "After testing several types of models, I achieved the best performance with a Gradient Boosting classifier (ROC AUC = 0.8). In the following, I evaluate the performance of the model in more detail by computing a learning curve and a confusion matrix.\n",
    "The learning curve (see below) shows that the performance of the Gradient Boosting is predominantly limited by the bias. Adding more features to the data set could help improve the quality of the model. In addition, the training score and the validation have not converged yet. Hence, the quality of the model can be improved by adding more instances. However, the gap between the two curves is small compared to the bias."
   ]
  },
  {
   "cell_type": "code",
   "execution_count": 4,
   "id": "fc939e63",
   "metadata": {},
   "outputs": [
    {
     "data": {
      "image/png": "[encoded data removed]",
      "text/plain": [
       "<Figure size 432x288 with 1 Axes>"
      ]
     },
     "metadata": {
      "needs_background": "light"
     },
     "output_type": "display_data"
    }
   ],
   "source": [
    "# Learning curve\n",
    "gbc =  GradientBoostingClassifier(**gradboost.best_params_)\n",
    "\n",
    "train_sizes=np.arange(0.1,1.1,0.1)\n",
    "plot_learning_curve(gbc,X_train_comb,y_train,train_sizes,3)\n"
   ]
  },
  {
   "cell_type": "markdown",
   "id": "3cab2d37",
   "metadata": {},
   "source": [
    "## Threshold for the probability\n",
    "The Gradient Boosting classifier provides an estimate of the probability for a client subscribing to a term deposit. Here, I determine the optimal threshold for the probability that should be used for the classification, i.e., minimizing the number of false negatives and false positive. For this purpose, I derive the probability predicted by the model for a set of validation data. Then, I plot a histogram of the resulting probabilities while distinguishing between positive (y = 1) and negative (y = 0) labels (see below).\n",
    "The histograms show that for most instances with negative labels (y = 0), the predicted probability is below about 0.2. Unfortunately, however, a significant fraction of the instances with positive labels (y = 1) get assigned a probability below 0.2, as well. Nonetheless, I will use a probability of 0.2 in the following for distinguishing between positive and negative outcomes. The instances with y = 1, for which the model predicts a low probability, exhibit very similar features as the instances with y = 0 and low probabilities. In particular, none of these clients subscribed to a term deposit in the past. As shown below, this is the most important criterion for the model. A more accurate prediction for these instances would require more features."
   ]
  },
  {
   "cell_type": "code",
   "execution_count": 5,
   "id": "0bdec717",
   "metadata": {},
   "outputs": [
    {
     "data": {
      "image/png": "[encoded data removed]",
      "text/plain": [
       "<Figure size 432x288 with 1 Axes>"
      ]
     },
     "metadata": {
      "needs_background": "light"
     },
     "output_type": "display_data"
    }
   ],
   "source": [
    "# Derive the probability predicted by the model for a set of validation data\n",
    "X_train2, X_val, y_train2, y_val = train_test_split(X_train_comb,y_train,test_size=0.2,random_state=42,stratify=y_train)\n",
    "gbc.fit(X_train2,y_train2)\n",
    "y_proba = gbc.predict_proba(X_val)[:,1]\n",
    "\n",
    "# Plot a histogram of the predicted probability for the validation data (distinguish between y = 0 and y = 1)\n",
    "fig, ax = plt.subplots()\n",
    "plt.hist([y_proba[y_val==1],y_proba[y_val==0]],density=True,bins=np.arange(-0.05,1.05,0.1))\n",
    "ax.set_xlabel('probability')\n",
    "ax.set_ylabel('')\n",
    "ax.legend(['y = 1', 'y = 0'])\n",
    "ax.set_title('Histogram of the predicted probabilities');"
   ]
  },
  {
   "cell_type": "markdown",
   "id": "758d1bb0",
   "metadata": {},
   "source": [
    "## Confusion matrix\n",
    "Using the threshold of 0.2 for the probability, I now generate the confusion matrix (see below). As expected from the histogram of the probabilities shown above, the Gradient Boosting classifier performs well in classifying the instances with y = 0.  Only 10 % of the instances with y = 0 are classified as false positives. However, a large fraction (40 %) of the instances with y = 1 are classified as false negatives. Therefore, there are more false positives than true positives. Without using the predictions made by the model, 11 % of the clients, that are contacted, will subscribe to a term deposit. When taking into account the predictions made by the model (with a threshold of 0.2 for the probability), the success rate rises to 45 %. However, 40 % of the clients, who are potentially interested in a term deposit, will not be contacted. When increasing the threshold of the probability to 0.5, the success rate is even higher (64 %), but 70 % of the people interested in a loan will not be contacted. "
   ]
  },
  {
   "cell_type": "code",
   "execution_count": 6,
   "id": "47fe84d6",
   "metadata": {},
   "outputs": [
    {
     "data": {
      "image/png": "[encoded data removed]",
      "text/plain": [
       "<Figure size 432x288 with 2 Axes>"
      ]
     },
     "metadata": {
      "needs_background": "light"
     },
     "output_type": "display_data"
    }
   ],
   "source": [
    "plot_confusion_matrix(y_val,y_proba,0.2)"
   ]
  },
  {
   "cell_type": "markdown",
   "id": "b4163908",
   "metadata": {},
   "source": [
    "## Feature importance\n",
    "The Gradient Boosting classifier in scikit-learn also provides the importance of the individual features for the predictions. As can be seen in the plot below, the most important feature is poutcome_success which is a categorical variable describing whether a client subscribed to a term deposit in a previous telemarketing campaign. Clients are likely to subscribe to a term deposit if they have already done that in the past. The features describing the state of the economy are important, as well. If the economy is in a bad state, people are more interested in conservative options for investing money, such as term deposits."
   ]
  },
  {
   "cell_type": "code",
   "execution_count": 7,
   "id": "e93f07f5",
   "metadata": {},
   "outputs": [
    {
     "data": {
      "image/png": "[encoded data removed]",
      "text/plain": [
       "<Figure size 432x288 with 1 Axes>"
      ]
     },
     "metadata": {
      "needs_background": "light"
     },
     "output_type": "display_data"
    }
   ],
   "source": [
    "# Feature importance\n",
    "fig, ax = plt.subplots()\n",
    "sorted_idx = gbc.feature_importances_.argsort()\n",
    "plt.barh(X_train_comb.columns[sorted_idx],gbc.feature_importances_[sorted_idx])\n",
    "ax.set_xlabel('importance')\n",
    "ax.set_title('Feature importance');"
   ]
  },
  {
   "cell_type": "markdown",
   "id": "dbf3fc0d",
   "metadata": {},
   "source": [
    "## Test data\n",
    "In the last step, I apply the model on the test data. The ROC AUC score (0.82) is comparable to the one achieved on the train and on the validation data. Hence, the model does not overfit the data."
   ]
  },
  {
   "cell_type": "code",
   "execution_count": 8,
   "id": "41cf7200",
   "metadata": {},
   "outputs": [
    {
     "data": {
      "text/plain": [
       "'Test data: ROC AUC =  0.82'"
      ]
     },
     "metadata": {},
     "output_type": "display_data"
    }
   ],
   "source": [
    "#ROC AUC for the test data\n",
    "test_score = roc_auc_score(y_test,gbc.predict_proba(X_test_comb)[:,1])\n",
    "\n",
    "display('Test data: ROC AUC =  {:.2f}'.format(test_score))"
   ]
  },
  {
   "cell_type": "markdown",
   "id": "d957e552",
   "metadata": {},
   "source": [
    "## Summary\n",
    "The model uses a Gradient Boosting classifier to predict whether a client will subscribe to a term deposit. It achieves an ROC AUC score of 0.8. The main drawback of the model is the large amount of false negatives. The available features do not allow a clear identification of some of the clients who are interested in a term deposit. Nonetheless, the model is useful if there is only a limited capacity for telemarketing available. The threshold of the probability for a positive outcome can be adjusted according to the number of phone calls that can be made. In this way, only the clients that are the most likely to subscribe in a term deposit can be selected. For example, if the telemarketing campaign can only reach 10 % of the clients of the bank, selecting the clients based on the predictions of the Gradient Boosting classifier, 52 % of the contacted clients are expected to subscribe to a term deposit. Without using the model, only 11 % of the clients, that are contacted, would be interested in a term deposit.\n",
    "Reducing the number of false negatives requires additional features. These could be, for example, the account balance of the customer or recent transactions."
   ]
  }
 ],
 "metadata": {
  "kernelspec": {
   "display_name": "Python 3",
   "language": "python",
   "name": "python3"
  },
  "language_info": {
   "codemirror_mode": {
    "name": "ipython",
    "version": 3
   },
   "file_extension": ".py",
   "mimetype": "text/x-python",
   "name": "python",
   "nbconvert_exporter": "python",
   "pygments_lexer": "ipython3",
   "version": "3.8.8"
  }
 },
 "nbformat": 4,
 "nbformat_minor": 5
}
